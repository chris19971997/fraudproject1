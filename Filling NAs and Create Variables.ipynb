{
 "cells": [
  {
   "cell_type": "code",
   "execution_count": 1,
   "metadata": {},
   "outputs": [],
   "source": [
    "import pandas as pd\n",
    "import numpy as np\n",
    "import warnings\n",
    "warnings.filterwarnings('ignore')"
   ]
  },
  {
   "cell_type": "code",
   "execution_count": 2,
   "metadata": {},
   "outputs": [],
   "source": [
    "df = pd.read_csv('NY Property data.csv')"
   ]
  },
  {
   "cell_type": "markdown",
   "metadata": {},
   "source": [
    "## Filling Missing Values"
   ]
  },
  {
   "cell_type": "code",
   "execution_count": 3,
   "metadata": {},
   "outputs": [],
   "source": [
    "## Filling NA Zip Codes\n",
    "df['ZIP'].fillna(0,inplace=True)\n",
    "hh = df['ZIP'].tolist()\n",
    "for i in range(len(hh)):\n",
    "    if hh[i]==0:\n",
    "        hh[i]=hh[i-1]\n",
    "df['ZIP'] = hh"
   ]
  },
  {
   "cell_type": "code",
   "execution_count": 4,
   "metadata": {},
   "outputs": [],
   "source": [
    "df['ZT'] = df['ZIP'].astype(int).astype(str)+''+df['TAXCLASS'].astype(str)\n",
    "## Fullval median groupby ZIP and TAXCLASS\n",
    "fullmedian_zt = df[df['FULLVAL'] != 0].groupby(['ZT'])['FULLVAL'].agg({'count':'count', 'median':'median'})\n",
    "fullmedian_zt = fullmedian_zt[fullmedian_zt['count']>=10]\n",
    "## Merge by ZIPTAX\n",
    "mer = df.merge(fullmedian_zt, how = 'left', left_on='ZT', right_index=True)\n",
    "## Fill in NA by ZIPTAX median\n",
    "mer['FULLVAL'].replace(0,np.nan,inplace=True)\n",
    "mer['FULLVAL'].fillna(mer['median'],inplace=True)\n",
    "mer['FULLVAL'].fillna(0,inplace=True)"
   ]
  },
  {
   "cell_type": "code",
   "execution_count": 5,
   "metadata": {},
   "outputs": [],
   "source": [
    "fullmedian_t = df[df['FULLVAL'] != 0].groupby(['TAXCLASS'])['FULLVAL'].agg({'count2':'count', 'median2':'median'})\n",
    "mer2 = mer.merge(fullmedian_t, how = 'left', left_on='TAXCLASS', right_index=True)\n",
    "mer2['FULLVAL'].replace(0,np.nan,inplace=True)\n",
    "mer2['FULLVAL'].fillna(mer2['median2'],inplace=True)"
   ]
  },
  {
   "cell_type": "code",
   "execution_count": 6,
   "metadata": {},
   "outputs": [],
   "source": [
    "df['FULLVAL']=mer2['FULLVAL']"
   ]
  },
  {
   "cell_type": "code",
   "execution_count": 7,
   "metadata": {},
   "outputs": [],
   "source": [
    "df['ZT'] = df['ZIP'].astype(int).astype(str)+''+df['TAXCLASS'].astype(str)\n",
    "## AVTOT median groupby ZIP and TAXCLASS\n",
    "fullmedian_zt = df[df['AVTOT'] != 0].groupby(['ZT'])['AVTOT'].agg({'count':'count', 'median':'median'})\n",
    "fullmedian_zt = fullmedian_zt[fullmedian_zt['count']>=10]\n",
    "## Merge by ZIPTAX\n",
    "mer = df.merge(fullmedian_zt, how = 'left', left_on='ZT', right_index=True)\n",
    "## Fill in NA by ZIPTAX median\n",
    "mer['AVTOT'].replace(0,np.nan,inplace=True)\n",
    "mer['AVTOT'].fillna(mer['median'],inplace=True)\n",
    "mer['AVTOT'].fillna(0,inplace=True)\n",
    "fullmedian_t = df[df['AVTOT'] != 0].groupby(['TAXCLASS'])['AVTOT'].agg({'count2':'count', 'median2':'median'})\n",
    "mer2 = mer.merge(fullmedian_t, how = 'left', left_on='TAXCLASS', right_index=True)\n",
    "mer2['AVTOT'].replace(0,np.nan,inplace=True)\n",
    "mer2['AVTOT'].fillna(mer2['median2'],inplace=True)\n",
    "df['AVTOT']=mer2['AVTOT']\n"
   ]
  },
  {
   "cell_type": "code",
   "execution_count": 8,
   "metadata": {},
   "outputs": [],
   "source": [
    "df['ZT'] = df['ZIP'].astype(int).astype(str)+''+df['TAXCLASS'].astype(str)\n",
    "## AVLAND median groupby ZIP and TAXCLASS\n",
    "fullmedian_zt = df[df['AVLAND'] != 0].groupby(['ZT'])['AVLAND'].agg({'count':'count', 'median':'median'})\n",
    "fullmedian_zt = fullmedian_zt[fullmedian_zt['count']>=10]\n",
    "## Merge by ZIPTAX\n",
    "mer = df.merge(fullmedian_zt, how = 'left', left_on='ZT', right_index=True)\n",
    "## Fill in NA by ZIPTAX median\n",
    "mer['AVLAND'].replace(0,np.nan,inplace=True)\n",
    "mer['AVLAND'].fillna(mer['median'],inplace=True)\n",
    "mer['AVLAND'].fillna(0,inplace=True)\n",
    "fullmedian_t = df[df['AVLAND'] != 0].groupby(['TAXCLASS'])['AVLAND'].agg({'count2':'count', 'median2':'median'})\n",
    "mer2 = mer.merge(fullmedian_t, how = 'left', left_on='TAXCLASS', right_index=True)\n",
    "mer2['AVLAND'].replace(0,np.nan,inplace=True)\n",
    "mer2['AVLAND'].fillna(mer2['median2'],inplace=True)\n",
    "df['AVLAND']=mer2['AVLAND']\n"
   ]
  },
  {
   "cell_type": "code",
   "execution_count": 9,
   "metadata": {},
   "outputs": [],
   "source": [
    "df['ZT'] = df['ZIP'].astype(int).astype(str)+''+df['TAXCLASS'].astype(str)\n",
    "## LTFRONT median groupby ZIP and TAXCLASS\n",
    "fullmedian_zt = df[df['LTFRONT'] != 0].groupby(['ZT'])['LTFRONT'].agg({'count':'count', 'median':'median'})\n",
    "fullmedian_zt = fullmedian_zt[fullmedian_zt['count']>=10]\n",
    "## Merge by ZIPTAX\n",
    "mer = df.merge(fullmedian_zt, how = 'left', left_on='ZT', right_index=True)\n",
    "## Fill in NA by ZIPTAX median\n",
    "mer['LTFRONT'].replace(0,np.nan,inplace=True)\n",
    "mer['LTFRONT'].fillna(mer['median'],inplace=True)\n",
    "mer['LTFRONT'].fillna(0,inplace=True)\n",
    "fullmedian_t = df[df['LTFRONT'] != 0].groupby(['TAXCLASS'])['LTFRONT'].agg({'count2':'count', 'median2':'median'})\n",
    "mer2 = mer.merge(fullmedian_t, how = 'left', left_on='TAXCLASS', right_index=True)\n",
    "mer2['LTFRONT'].replace(0,np.nan,inplace=True)\n",
    "mer2['LTFRONT'].fillna(mer2['median2'],inplace=True)\n",
    "df['LTFRONT']=mer2['LTFRONT']\n"
   ]
  },
  {
   "cell_type": "code",
   "execution_count": 10,
   "metadata": {},
   "outputs": [],
   "source": [
    "df['ZT'] = df['ZIP'].astype(int).astype(str)+''+df['TAXCLASS'].astype(str)\n",
    "## LTDEPTH median groupby ZIP and TAXCLASS\n",
    "fullmedian_zt = df[df['LTDEPTH'] != 0].groupby(['ZT'])['LTDEPTH'].agg({'count':'count', 'median':'median'})\n",
    "fullmedian_zt = fullmedian_zt[fullmedian_zt['count']>=10]\n",
    "## Merge by ZIPTAX\n",
    "mer = df.merge(fullmedian_zt, how = 'left', left_on='ZT', right_index=True)\n",
    "## Fill in NA by ZIPTAX median\n",
    "mer['LTDEPTH'].replace(0,np.nan,inplace=True)\n",
    "mer['LTDEPTH'].fillna(mer['median'],inplace=True)\n",
    "mer['LTDEPTH'].fillna(0,inplace=True)\n",
    "fullmedian_t = df[df['LTDEPTH'] != 0].groupby(['TAXCLASS'])['LTDEPTH'].agg({'count2':'count', 'median2':'median'})\n",
    "mer2 = mer.merge(fullmedian_t, how = 'left', left_on='TAXCLASS', right_index=True)\n",
    "mer2['LTDEPTH'].replace(0,np.nan,inplace=True)\n",
    "mer2['LTDEPTH'].fillna(mer2['median2'],inplace=True)\n",
    "df['LTDEPTH']=mer2['LTDEPTH']\n"
   ]
  },
  {
   "cell_type": "code",
   "execution_count": 11,
   "metadata": {},
   "outputs": [],
   "source": [
    "df['ZT'] = df['ZIP'].astype(int).astype(str)+''+df['TAXCLASS'].astype(str)\n",
    "## BLDFRONT median groupby ZIP and TAXCLASS\n",
    "fullmedian_zt = df[df['BLDFRONT'] != 0].groupby(['ZT'])['BLDFRONT'].agg({'count':'count', 'median':'median'})\n",
    "fullmedian_zt = fullmedian_zt[fullmedian_zt['count']>=10]\n",
    "## Merge by ZIPTAX\n",
    "mer = df.merge(fullmedian_zt, how = 'left', left_on='ZT', right_index=True)\n",
    "## Fill in NA by ZIPTAX median\n",
    "mer['BLDFRONT'].replace(0,np.nan,inplace=True)\n",
    "mer['BLDFRONT'].fillna(mer['median'],inplace=True)\n",
    "mer['BLDFRONT'].fillna(0,inplace=True)\n",
    "fullmedian_t = df[df['BLDFRONT'] != 0].groupby(['TAXCLASS'])['BLDFRONT'].agg({'count2':'count', 'median2':'median'})\n",
    "mer2 = mer.merge(fullmedian_t, how = 'left', left_on='TAXCLASS', right_index=True)\n",
    "mer2['BLDFRONT'].replace(0,np.nan,inplace=True)\n",
    "mer2['BLDFRONT'].fillna(mer2['median2'],inplace=True)\n",
    "df['BLDFRONT']=mer2['BLDFRONT']\n"
   ]
  },
  {
   "cell_type": "code",
   "execution_count": 12,
   "metadata": {},
   "outputs": [],
   "source": [
    "df['ZT'] = df['ZIP'].astype(int).astype(str)+''+df['TAXCLASS'].astype(str)\n",
    "## BLDDEPTH median groupby ZIP and TAXCLASS\n",
    "fullmedian_zt = df[df['BLDDEPTH'] != 0].groupby(['ZT'])['BLDDEPTH'].agg({'count':'count', 'median':'median'})\n",
    "fullmedian_zt = fullmedian_zt[fullmedian_zt['count']>=10]\n",
    "## Merge by ZIPTAX\n",
    "mer = df.merge(fullmedian_zt, how = 'left', left_on='ZT', right_index=True)\n",
    "## Fill in NA by ZIPTAX median\n",
    "mer['BLDDEPTH'].replace(0,np.nan,inplace=True)\n",
    "mer['BLDDEPTH'].fillna(mer['median'],inplace=True)\n",
    "mer['BLDDEPTH'].fillna(0,inplace=True)\n",
    "fullmedian_t = df[df['BLDDEPTH'] != 0].groupby(['TAXCLASS'])['BLDDEPTH'].agg({'count2':'count', 'median2':'median'})\n",
    "mer2 = mer.merge(fullmedian_t, how = 'left', left_on='TAXCLASS', right_index=True)\n",
    "mer2['BLDDEPTH'].replace(0,np.nan,inplace=True)\n",
    "mer2['BLDDEPTH'].fillna(mer2['median2'],inplace=True)\n",
    "df['BLDDEPTH']=mer2['BLDDEPTH']\n"
   ]
  },
  {
   "cell_type": "code",
   "execution_count": 13,
   "metadata": {},
   "outputs": [],
   "source": [
    "df['ZT'] = df['ZIP'].astype(int).astype(str)+''+df['TAXCLASS'].astype(str)\n",
    "## STORIES median groupby ZIP and TAXCLASS\n",
    "df['STORIES'].replace(np.nan,0,inplace=True)\n",
    "fullmedian_zt = df[df['STORIES'] != 0].groupby(['ZT'])['STORIES'].agg({'count':'count', 'median':'median'})\n",
    "fullmedian_zt = fullmedian_zt[fullmedian_zt['count']>=10]\n",
    "## Merge by ZIPTAX\n",
    "mer = df.merge(fullmedian_zt, how = 'left', left_on='ZT', right_index=True)\n",
    "## Fill in NA by ZIPTAX median\n",
    "mer['STORIES'].replace(0,np.nan,inplace=True)\n",
    "mer['STORIES'].fillna(mer['median'],inplace=True)\n",
    "mer['STORIES'].fillna(0,inplace=True)\n",
    "fullmedian_t = df[df['STORIES'] != 0].groupby(['TAXCLASS'])['STORIES'].agg({'count2':'count', 'median2':'median'})\n",
    "mer2 = mer.merge(fullmedian_t, how = 'left', left_on='TAXCLASS', right_index=True)\n",
    "mer2['STORIES'].replace(0,np.nan,inplace=True)\n",
    "mer2['STORIES'].fillna(mer2['median2'],inplace=True)\n",
    "df['STORIES']=mer2['STORIES']\n"
   ]
  },
  {
   "cell_type": "markdown",
   "metadata": {},
   "source": [
    "## Building variables"
   ]
  },
  {
   "cell_type": "code",
   "execution_count": 14,
   "metadata": {},
   "outputs": [],
   "source": [
    "final_df = df[['RECORD','FULLVAL','AVLAND', 'AVTOT', 'LTFRONT', 'LTDEPTH', 'BLDFRONT', 'BLDDEPTH', 'ZIP', 'STORIES','B','TAXCLASS']]"
   ]
  },
  {
   "cell_type": "code",
   "execution_count": 15,
   "metadata": {},
   "outputs": [],
   "source": [
    "final_df['S1'] = final_df['LTFRONT'] *final_df['LTDEPTH']"
   ]
  },
  {
   "cell_type": "code",
   "execution_count": 16,
   "metadata": {},
   "outputs": [],
   "source": [
    "final_df['S2'] = final_df['BLDFRONT'] *final_df['BLDDEPTH']"
   ]
  },
  {
   "cell_type": "code",
   "execution_count": 17,
   "metadata": {},
   "outputs": [],
   "source": [
    "final_df['S3'] = final_df['S2'] *final_df['STORIES']"
   ]
  },
  {
   "cell_type": "code",
   "execution_count": 18,
   "metadata": {},
   "outputs": [],
   "source": [
    "final_df['r1'] = final_df['FULLVAL'] /final_df['S1']\n",
    "final_df['r2'] = final_df['FULLVAL'] /final_df['S2']\n",
    "final_df['r3'] = final_df['FULLVAL'] /final_df['S3']\n",
    "final_df['r4'] = final_df['AVLAND'] /final_df['S1']\n",
    "final_df['r5'] = final_df['AVLAND'] /final_df['S2']\n",
    "final_df['r6'] = final_df['AVLAND'] /final_df['S3']\n",
    "final_df['r7'] = final_df['AVTOT'] /final_df['S1']\n",
    "final_df['r8'] = final_df['AVTOT'] /final_df['S2']\n",
    "final_df['r9'] = final_df['AVTOT'] /final_df['S3']"
   ]
  },
  {
   "cell_type": "code",
   "execution_count": 19,
   "metadata": {},
   "outputs": [],
   "source": [
    "result = []\n",
    "for i in final_df['ZIP'].astype(int).astype(str):\n",
    "    result.append(i[:3])\n",
    "final_df['ZIP3'] = result"
   ]
  },
  {
   "cell_type": "code",
   "execution_count": 20,
   "metadata": {},
   "outputs": [],
   "source": [
    "g1 = final_df.groupby('ZIP')[['r1','r2','r3','r4','r5','r6','r7','r8','r9']].mean()\n",
    "g1.columns = ['r1g1','r2g1','r3g1','r4g1','r5g1','r6g1','r7g1','r8g1','r9g1']"
   ]
  },
  {
   "cell_type": "code",
   "execution_count": 21,
   "metadata": {},
   "outputs": [],
   "source": [
    "g2 = final_df.groupby('ZIP3')[['r1','r2','r3','r4','r5','r6','r7','r8','r9']].mean()\n",
    "g2.columns = ['r1g2','r2g2','r3g2','r4g2','r5g2','r6g2','r7g2','r8g2','r9g2']"
   ]
  },
  {
   "cell_type": "code",
   "execution_count": 22,
   "metadata": {},
   "outputs": [],
   "source": [
    "g3 = final_df.groupby('TAXCLASS')[['r1','r2','r3','r4','r5','r6','r7','r8','r9']].mean()\n",
    "g3.columns = ['r1g3','r2g3','r3g3','r4g3','r5g3','r6g3','r7g3','r8g3','r9g3']"
   ]
  },
  {
   "cell_type": "code",
   "execution_count": 23,
   "metadata": {},
   "outputs": [],
   "source": [
    "g4 = final_df.groupby('B')[['r1','r2','r3','r4','r5','r6','r7','r8','r9']].mean()\n",
    "g4.columns = ['r1g4','r2g4','r3g4','r4g4','r5g4','r6g4','r7g4','r8g4','r9g4']"
   ]
  },
  {
   "cell_type": "code",
   "execution_count": 24,
   "metadata": {},
   "outputs": [],
   "source": [
    "final_df=final_df.merge(g1,how='left',right_index=True,left_on='ZIP')\n",
    "final_df=final_df.merge(g2,how='left',right_index=True,left_on='ZIP3')\n",
    "final_df=final_df.merge(g3,how='left',right_index=True,left_on='TAXCLASS')\n",
    "final_df=final_df.merge(g4,how='left',right_index=True,left_on='B')"
   ]
  },
  {
   "cell_type": "code",
   "execution_count": 25,
   "metadata": {},
   "outputs": [],
   "source": [
    "final_df['r1g1']=final_df['r1']/final_df['r1g1']\n",
    "final_df['r2g1']=final_df['r2']/final_df['r2g1']\n",
    "final_df['r3g1']=final_df['r3']/final_df['r3g1']\n",
    "final_df['r4g1']=final_df['r4']/final_df['r4g1']\n",
    "final_df['r5g1']=final_df['r5']/final_df['r5g1']\n",
    "final_df['r6g1']=final_df['r6']/final_df['r6g1']\n",
    "final_df['r7g1']=final_df['r7']/final_df['r7g1']\n",
    "final_df['r8g1']=final_df['r8']/final_df['r8g1']\n",
    "final_df['r9g1']=final_df['r9']/final_df['r9g1']\n",
    "final_df['r1g2']=final_df['r1']/final_df['r1g2']\n",
    "final_df['r2g2']=final_df['r2']/final_df['r2g2']\n",
    "final_df['r3g2']=final_df['r3']/final_df['r3g2']\n",
    "final_df['r4g2']=final_df['r4']/final_df['r4g2']\n",
    "final_df['r5g2']=final_df['r5']/final_df['r5g2']\n",
    "final_df['r6g2']=final_df['r6']/final_df['r6g2']\n",
    "final_df['r7g2']=final_df['r7']/final_df['r7g2']\n",
    "final_df['r8g2']=final_df['r8']/final_df['r8g2']\n",
    "final_df['r9g2']=final_df['r9']/final_df['r9g2']\n",
    "final_df['r1g3']=final_df['r1']/final_df['r1g3']\n",
    "final_df['r2g3']=final_df['r2']/final_df['r2g3']\n",
    "final_df['r3g3']=final_df['r3']/final_df['r3g3']\n",
    "final_df['r4g3']=final_df['r4']/final_df['r4g3']\n",
    "final_df['r5g3']=final_df['r5']/final_df['r5g3']\n",
    "final_df['r6g3']=final_df['r6']/final_df['r6g3']\n",
    "final_df['r7g3']=final_df['r7']/final_df['r7g3']\n",
    "final_df['r8g3']=final_df['r8']/final_df['r8g3']\n",
    "final_df['r9g3']=final_df['r9']/final_df['r9g3']\n",
    "final_df['r1g4']=final_df['r1']/final_df['r1g4']\n",
    "final_df['r2g4']=final_df['r2']/final_df['r2g4']\n",
    "final_df['r3g4']=final_df['r3']/final_df['r3g4']\n",
    "final_df['r4g4']=final_df['r4']/final_df['r4g4']\n",
    "final_df['r5g4']=final_df['r5']/final_df['r5g4']\n",
    "final_df['r6g4']=final_df['r6']/final_df['r6g4']\n",
    "final_df['r7g4']=final_df['r7']/final_df['r7g4']\n",
    "final_df['r8g4']=final_df['r8']/final_df['r8g4']\n",
    "final_df['r9g4']=final_df['r9']/final_df['r9g4']"
   ]
  },
  {
   "cell_type": "code",
   "execution_count": 26,
   "metadata": {},
   "outputs": [],
   "source": [
    "df.to_csv('fk213.csv')"
   ]
  }
 ],
 "metadata": {
  "kernelspec": {
   "display_name": "Python 3",
   "language": "python",
   "name": "python3"
  },
  "language_info": {
   "codemirror_mode": {
    "name": "ipython",
    "version": 3
   },
   "file_extension": ".py",
   "mimetype": "text/x-python",
   "name": "python",
   "nbconvert_exporter": "python",
   "pygments_lexer": "ipython3",
   "version": "3.7.1"
  }
 },
 "nbformat": 4,
 "nbformat_minor": 2
}
